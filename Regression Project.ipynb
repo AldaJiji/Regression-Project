{
 "cells": [
  {
   "cell_type": "markdown",
   "id": "8b4e0b53-719a-4248-87a0-494b228372d8",
   "metadata": {},
   "source": [
    "## Regression Project\n",
    "---"
   ]
  },
  {
   "cell_type": "markdown",
   "id": "df6b4606-1950-428e-a45c-f2776d7915ea",
   "metadata": {},
   "source": [
    "In this regression project, we'll work with the dataset `canada_rent.csv` containing rental prices for units in across Canada in 2024 and obtained from [rentfaster.ca](https://www.rentfaster.ca/?utm_source=OOH&utm_medium=sign&utm_campaign=ca).\n",
    "\n",
    "My goal is to explore multiple regression models, in order to find a model that predicts the rental price most accurately.\n",
    "\n",
    "To do this, I will:\n",
    "1. Read and explore the data\n",
    "2. Clean and prepare the data\n",
    "3. Compare different regression models\n",
    "4. Choose the best model and make predictions on provided input."
   ]
  },
  {
   "cell_type": "markdown",
   "id": "8895c21e-cbea-45e0-912b-ffc2a4f22fae",
   "metadata": {},
   "source": [
    "## 1. Imports + Data Loading\n",
    "\n",
    "### 1.1 Import libraries "
   ]
  },
  {
   "cell_type": "code",
   "execution_count": 1,
   "id": "412da6b3-5da1-44bb-97f3-599e51619391",
   "metadata": {},
   "outputs": [],
   "source": [
    "import pandas as pd\n",
    "import numpy as np\n",
    "import matplotlib.pyplot as plt\n",
    "import seaborn as sns\n",
    "from sklearn.model_selection import train_test_split, cross_val_score, GridSearchCV\n",
    "from sklearn.preprocessing import OneHotEncoder, StandardScaler, PolynomialFeatures\n",
    "from sklearn.linear_model import LinearRegression, Ridge, RidgeCV, ElasticNet, ElasticNetCV, LassoCV\n",
    "from sklearn.metrics import mean_absolute_error, mean_squared_error, r2_score"
   ]
  },
  {
   "cell_type": "markdown",
   "id": "28d736ee-ca0c-4c58-a6d1-6de76c09cba3",
   "metadata": {},
   "source": [
    "### 1.2 Load and explore data"
   ]
  },
  {
   "cell_type": "code",
   "execution_count": 2,
   "id": "a263d4c5-215a-427f-a5d9-08120bf1c059",
   "metadata": {},
   "outputs": [
    {
     "data": {
      "text/html": [
       "<div>\n",
       "<style scoped>\n",
       "    .dataframe tbody tr th:only-of-type {\n",
       "        vertical-align: middle;\n",
       "    }\n",
       "\n",
       "    .dataframe tbody tr th {\n",
       "        vertical-align: top;\n",
       "    }\n",
       "\n",
       "    .dataframe thead th {\n",
       "        text-align: right;\n",
       "    }\n",
       "</style>\n",
       "<table border=\"1\" class=\"dataframe\">\n",
       "  <thead>\n",
       "    <tr style=\"text-align: right;\">\n",
       "      <th></th>\n",
       "      <th>rentfaster_id</th>\n",
       "      <th>city</th>\n",
       "      <th>province</th>\n",
       "      <th>address</th>\n",
       "      <th>latitude</th>\n",
       "      <th>longitude</th>\n",
       "      <th>lease_term</th>\n",
       "      <th>type</th>\n",
       "      <th>price</th>\n",
       "      <th>beds</th>\n",
       "      <th>baths</th>\n",
       "      <th>sq_feet</th>\n",
       "      <th>link</th>\n",
       "      <th>furnishing</th>\n",
       "      <th>availability_date</th>\n",
       "      <th>smoking</th>\n",
       "      <th>cats</th>\n",
       "      <th>dogs</th>\n",
       "    </tr>\n",
       "  </thead>\n",
       "  <tbody>\n",
       "    <tr>\n",
       "      <th>0</th>\n",
       "      <td>468622</td>\n",
       "      <td>Airdrie</td>\n",
       "      <td>Alberta</td>\n",
       "      <td>69 Gateway Dr NE</td>\n",
       "      <td>51.305962</td>\n",
       "      <td>-114.012515</td>\n",
       "      <td>Long Term</td>\n",
       "      <td>Townhouse</td>\n",
       "      <td>2495.0</td>\n",
       "      <td>2 Beds</td>\n",
       "      <td>2.5</td>\n",
       "      <td>1403</td>\n",
       "      <td>/ab/airdrie/rentals/townhouse/2-bedrooms/pet-f...</td>\n",
       "      <td>Unfurnished</td>\n",
       "      <td>Immediate</td>\n",
       "      <td>Non-Smoking</td>\n",
       "      <td>True</td>\n",
       "      <td>True</td>\n",
       "    </tr>\n",
       "    <tr>\n",
       "      <th>1</th>\n",
       "      <td>468622</td>\n",
       "      <td>Airdrie</td>\n",
       "      <td>Alberta</td>\n",
       "      <td>69 Gateway Dr NE</td>\n",
       "      <td>51.305962</td>\n",
       "      <td>-114.012515</td>\n",
       "      <td>Long Term</td>\n",
       "      <td>Townhouse</td>\n",
       "      <td>2695.0</td>\n",
       "      <td>3 Beds</td>\n",
       "      <td>2.5</td>\n",
       "      <td>1496</td>\n",
       "      <td>/ab/airdrie/rentals/townhouse/2-bedrooms/pet-f...</td>\n",
       "      <td>Unfurnished</td>\n",
       "      <td>Immediate</td>\n",
       "      <td>Non-Smoking</td>\n",
       "      <td>True</td>\n",
       "      <td>True</td>\n",
       "    </tr>\n",
       "    <tr>\n",
       "      <th>2</th>\n",
       "      <td>468622</td>\n",
       "      <td>Airdrie</td>\n",
       "      <td>Alberta</td>\n",
       "      <td>69 Gateway Dr NE</td>\n",
       "      <td>51.305962</td>\n",
       "      <td>-114.012515</td>\n",
       "      <td>Long Term</td>\n",
       "      <td>Townhouse</td>\n",
       "      <td>2295.0</td>\n",
       "      <td>2 Beds</td>\n",
       "      <td>2.5</td>\n",
       "      <td>1180</td>\n",
       "      <td>/ab/airdrie/rentals/townhouse/2-bedrooms/pet-f...</td>\n",
       "      <td>Unfurnished</td>\n",
       "      <td>Immediate</td>\n",
       "      <td>Non-Smoking</td>\n",
       "      <td>True</td>\n",
       "      <td>True</td>\n",
       "    </tr>\n",
       "    <tr>\n",
       "      <th>3</th>\n",
       "      <td>468622</td>\n",
       "      <td>Airdrie</td>\n",
       "      <td>Alberta</td>\n",
       "      <td>69 Gateway Dr NE</td>\n",
       "      <td>51.305962</td>\n",
       "      <td>-114.012515</td>\n",
       "      <td>Long Term</td>\n",
       "      <td>Townhouse</td>\n",
       "      <td>2095.0</td>\n",
       "      <td>2 Beds</td>\n",
       "      <td>2.5</td>\n",
       "      <td>1403</td>\n",
       "      <td>/ab/airdrie/rentals/townhouse/2-bedrooms/pet-f...</td>\n",
       "      <td>Unfurnished</td>\n",
       "      <td>November 18</td>\n",
       "      <td>Non-Smoking</td>\n",
       "      <td>True</td>\n",
       "      <td>True</td>\n",
       "    </tr>\n",
       "    <tr>\n",
       "      <th>4</th>\n",
       "      <td>468622</td>\n",
       "      <td>Airdrie</td>\n",
       "      <td>Alberta</td>\n",
       "      <td>69 Gateway Dr NE</td>\n",
       "      <td>51.305962</td>\n",
       "      <td>-114.012515</td>\n",
       "      <td>Long Term</td>\n",
       "      <td>Townhouse</td>\n",
       "      <td>2495.0</td>\n",
       "      <td>2 Beds</td>\n",
       "      <td>2.5</td>\n",
       "      <td>1403</td>\n",
       "      <td>/ab/airdrie/rentals/townhouse/2-bedrooms/pet-f...</td>\n",
       "      <td>Unfurnished</td>\n",
       "      <td>Immediate</td>\n",
       "      <td>Non-Smoking</td>\n",
       "      <td>True</td>\n",
       "      <td>True</td>\n",
       "    </tr>\n",
       "    <tr>\n",
       "      <th>...</th>\n",
       "      <td>...</td>\n",
       "      <td>...</td>\n",
       "      <td>...</td>\n",
       "      <td>...</td>\n",
       "      <td>...</td>\n",
       "      <td>...</td>\n",
       "      <td>...</td>\n",
       "      <td>...</td>\n",
       "      <td>...</td>\n",
       "      <td>...</td>\n",
       "      <td>...</td>\n",
       "      <td>...</td>\n",
       "      <td>...</td>\n",
       "      <td>...</td>\n",
       "      <td>...</td>\n",
       "      <td>...</td>\n",
       "      <td>...</td>\n",
       "      <td>...</td>\n",
       "    </tr>\n",
       "    <tr>\n",
       "      <th>25766</th>\n",
       "      <td>334285</td>\n",
       "      <td>Yorkton</td>\n",
       "      <td>Saskatchewan</td>\n",
       "      <td>18 Allanbrooke Dr</td>\n",
       "      <td>51.203024</td>\n",
       "      <td>-102.484782</td>\n",
       "      <td>Long Term</td>\n",
       "      <td>Apartment</td>\n",
       "      <td>920.0</td>\n",
       "      <td>Studio</td>\n",
       "      <td>1</td>\n",
       "      <td>400</td>\n",
       "      <td>/sk/yorkton/rentals/apartment/3-bedrooms/pet-f...</td>\n",
       "      <td>Unfurnished</td>\n",
       "      <td>Immediate</td>\n",
       "      <td>Non-Smoking</td>\n",
       "      <td>True</td>\n",
       "      <td>True</td>\n",
       "    </tr>\n",
       "    <tr>\n",
       "      <th>25767</th>\n",
       "      <td>334285</td>\n",
       "      <td>Yorkton</td>\n",
       "      <td>Saskatchewan</td>\n",
       "      <td>18 Allanbrooke Dr</td>\n",
       "      <td>51.203024</td>\n",
       "      <td>-102.484782</td>\n",
       "      <td>Long Term</td>\n",
       "      <td>Apartment</td>\n",
       "      <td>1450.0</td>\n",
       "      <td>3 Beds</td>\n",
       "      <td>1</td>\n",
       "      <td>810</td>\n",
       "      <td>/sk/yorkton/rentals/apartment/3-bedrooms/pet-f...</td>\n",
       "      <td>Unfurnished</td>\n",
       "      <td>Immediate</td>\n",
       "      <td>Non-Smoking</td>\n",
       "      <td>True</td>\n",
       "      <td>True</td>\n",
       "    </tr>\n",
       "    <tr>\n",
       "      <th>25768</th>\n",
       "      <td>334284</td>\n",
       "      <td>Yorkton</td>\n",
       "      <td>Saskatchewan</td>\n",
       "      <td>363 Northview Rd</td>\n",
       "      <td>51.202667</td>\n",
       "      <td>-102.485765</td>\n",
       "      <td>Long Term</td>\n",
       "      <td>Apartment</td>\n",
       "      <td>1125.0</td>\n",
       "      <td>1 Bed</td>\n",
       "      <td>1</td>\n",
       "      <td>520</td>\n",
       "      <td>/sk/yorkton/rentals/apartment/1-bedroom/pet-fr...</td>\n",
       "      <td>Unfurnished</td>\n",
       "      <td>Immediate</td>\n",
       "      <td>Non-Smoking</td>\n",
       "      <td>True</td>\n",
       "      <td>True</td>\n",
       "    </tr>\n",
       "    <tr>\n",
       "      <th>25769</th>\n",
       "      <td>334284</td>\n",
       "      <td>Yorkton</td>\n",
       "      <td>Saskatchewan</td>\n",
       "      <td>363 Northview Rd</td>\n",
       "      <td>51.202667</td>\n",
       "      <td>-102.485765</td>\n",
       "      <td>Long Term</td>\n",
       "      <td>Apartment</td>\n",
       "      <td>920.0</td>\n",
       "      <td>Studio</td>\n",
       "      <td>1</td>\n",
       "      <td>400</td>\n",
       "      <td>/sk/yorkton/rentals/apartment/1-bedroom/pet-fr...</td>\n",
       "      <td>Unfurnished</td>\n",
       "      <td>Immediate</td>\n",
       "      <td>Non-Smoking</td>\n",
       "      <td>True</td>\n",
       "      <td>True</td>\n",
       "    </tr>\n",
       "    <tr>\n",
       "      <th>25770</th>\n",
       "      <td>334284</td>\n",
       "      <td>Yorkton</td>\n",
       "      <td>Saskatchewan</td>\n",
       "      <td>363 Northview Rd</td>\n",
       "      <td>51.202667</td>\n",
       "      <td>-102.485765</td>\n",
       "      <td>Long Term</td>\n",
       "      <td>Apartment</td>\n",
       "      <td>1285.0</td>\n",
       "      <td>2 Beds</td>\n",
       "      <td>1</td>\n",
       "      <td>700</td>\n",
       "      <td>/sk/yorkton/rentals/apartment/1-bedroom/pet-fr...</td>\n",
       "      <td>Unfurnished</td>\n",
       "      <td>Immediate</td>\n",
       "      <td>Non-Smoking</td>\n",
       "      <td>True</td>\n",
       "      <td>True</td>\n",
       "    </tr>\n",
       "  </tbody>\n",
       "</table>\n",
       "<p>25771 rows × 18 columns</p>\n",
       "</div>"
      ],
      "text/plain": [
       "       rentfaster_id     city      province            address   latitude  \\\n",
       "0             468622  Airdrie       Alberta   69 Gateway Dr NE  51.305962   \n",
       "1             468622  Airdrie       Alberta   69 Gateway Dr NE  51.305962   \n",
       "2             468622  Airdrie       Alberta   69 Gateway Dr NE  51.305962   \n",
       "3             468622  Airdrie       Alberta   69 Gateway Dr NE  51.305962   \n",
       "4             468622  Airdrie       Alberta   69 Gateway Dr NE  51.305962   \n",
       "...              ...      ...           ...                ...        ...   \n",
       "25766         334285  Yorkton  Saskatchewan  18 Allanbrooke Dr  51.203024   \n",
       "25767         334285  Yorkton  Saskatchewan  18 Allanbrooke Dr  51.203024   \n",
       "25768         334284  Yorkton  Saskatchewan   363 Northview Rd  51.202667   \n",
       "25769         334284  Yorkton  Saskatchewan   363 Northview Rd  51.202667   \n",
       "25770         334284  Yorkton  Saskatchewan   363 Northview Rd  51.202667   \n",
       "\n",
       "        longitude lease_term       type   price    beds baths sq_feet  \\\n",
       "0     -114.012515  Long Term  Townhouse  2495.0  2 Beds   2.5    1403   \n",
       "1     -114.012515  Long Term  Townhouse  2695.0  3 Beds   2.5    1496   \n",
       "2     -114.012515  Long Term  Townhouse  2295.0  2 Beds   2.5    1180   \n",
       "3     -114.012515  Long Term  Townhouse  2095.0  2 Beds   2.5    1403   \n",
       "4     -114.012515  Long Term  Townhouse  2495.0  2 Beds   2.5    1403   \n",
       "...           ...        ...        ...     ...     ...   ...     ...   \n",
       "25766 -102.484782  Long Term  Apartment   920.0  Studio     1     400   \n",
       "25767 -102.484782  Long Term  Apartment  1450.0  3 Beds     1     810   \n",
       "25768 -102.485765  Long Term  Apartment  1125.0   1 Bed     1     520   \n",
       "25769 -102.485765  Long Term  Apartment   920.0  Studio     1     400   \n",
       "25770 -102.485765  Long Term  Apartment  1285.0  2 Beds     1     700   \n",
       "\n",
       "                                                    link   furnishing  \\\n",
       "0      /ab/airdrie/rentals/townhouse/2-bedrooms/pet-f...  Unfurnished   \n",
       "1      /ab/airdrie/rentals/townhouse/2-bedrooms/pet-f...  Unfurnished   \n",
       "2      /ab/airdrie/rentals/townhouse/2-bedrooms/pet-f...  Unfurnished   \n",
       "3      /ab/airdrie/rentals/townhouse/2-bedrooms/pet-f...  Unfurnished   \n",
       "4      /ab/airdrie/rentals/townhouse/2-bedrooms/pet-f...  Unfurnished   \n",
       "...                                                  ...          ...   \n",
       "25766  /sk/yorkton/rentals/apartment/3-bedrooms/pet-f...  Unfurnished   \n",
       "25767  /sk/yorkton/rentals/apartment/3-bedrooms/pet-f...  Unfurnished   \n",
       "25768  /sk/yorkton/rentals/apartment/1-bedroom/pet-fr...  Unfurnished   \n",
       "25769  /sk/yorkton/rentals/apartment/1-bedroom/pet-fr...  Unfurnished   \n",
       "25770  /sk/yorkton/rentals/apartment/1-bedroom/pet-fr...  Unfurnished   \n",
       "\n",
       "      availability_date      smoking  cats  dogs  \n",
       "0             Immediate  Non-Smoking  True  True  \n",
       "1             Immediate  Non-Smoking  True  True  \n",
       "2             Immediate  Non-Smoking  True  True  \n",
       "3           November 18  Non-Smoking  True  True  \n",
       "4             Immediate  Non-Smoking  True  True  \n",
       "...                 ...          ...   ...   ...  \n",
       "25766         Immediate  Non-Smoking  True  True  \n",
       "25767         Immediate  Non-Smoking  True  True  \n",
       "25768         Immediate  Non-Smoking  True  True  \n",
       "25769         Immediate  Non-Smoking  True  True  \n",
       "25770         Immediate  Non-Smoking  True  True  \n",
       "\n",
       "[25771 rows x 18 columns]"
      ]
     },
     "execution_count": 2,
     "metadata": {},
     "output_type": "execute_result"
    }
   ],
   "source": [
    "df = pd.read_csv(\"./canada_rent.csv\")\n",
    "df"
   ]
  },
  {
   "cell_type": "markdown",
   "id": "3d4f4442-3948-4e7a-af94-917b7c6dd8f3",
   "metadata": {},
   "source": [
    "### Exploratory Data Analysis"
   ]
  },
  {
   "cell_type": "code",
   "execution_count": 3,
   "id": "6be2276b-f434-4baf-8ab0-ffa55b79a5b5",
   "metadata": {},
   "outputs": [
    {
     "name": "stdout",
     "output_type": "stream",
     "text": [
      "<class 'pandas.core.frame.DataFrame'>\n",
      "RangeIndex: 25771 entries, 0 to 25770\n",
      "Data columns (total 18 columns):\n",
      " #   Column             Non-Null Count  Dtype  \n",
      "---  ------             --------------  -----  \n",
      " 0   rentfaster_id      25771 non-null  int64  \n",
      " 1   city               25771 non-null  object \n",
      " 2   province           25771 non-null  object \n",
      " 3   address            25646 non-null  object \n",
      " 4   latitude           25771 non-null  float64\n",
      " 5   longitude          25771 non-null  float64\n",
      " 6   lease_term         25725 non-null  object \n",
      " 7   type               25771 non-null  object \n",
      " 8   price              25771 non-null  float64\n",
      " 9   beds               25639 non-null  object \n",
      " 10  baths              25637 non-null  object \n",
      " 11  sq_feet            21659 non-null  object \n",
      " 12  link               25771 non-null  object \n",
      " 13  furnishing         25771 non-null  object \n",
      " 14  availability_date  25759 non-null  object \n",
      " 15  smoking            23069 non-null  object \n",
      " 16  cats               25598 non-null  object \n",
      " 17  dogs               25598 non-null  object \n",
      "dtypes: float64(3), int64(1), object(14)\n",
      "memory usage: 3.5+ MB\n"
     ]
    },
    {
     "data": {
      "text/html": [
       "<div>\n",
       "<style scoped>\n",
       "    .dataframe tbody tr th:only-of-type {\n",
       "        vertical-align: middle;\n",
       "    }\n",
       "\n",
       "    .dataframe tbody tr th {\n",
       "        vertical-align: top;\n",
       "    }\n",
       "\n",
       "    .dataframe thead th {\n",
       "        text-align: right;\n",
       "    }\n",
       "</style>\n",
       "<table border=\"1\" class=\"dataframe\">\n",
       "  <thead>\n",
       "    <tr style=\"text-align: right;\">\n",
       "      <th></th>\n",
       "      <th>rentfaster_id</th>\n",
       "      <th>latitude</th>\n",
       "      <th>longitude</th>\n",
       "      <th>price</th>\n",
       "    </tr>\n",
       "  </thead>\n",
       "  <tbody>\n",
       "    <tr>\n",
       "      <th>count</th>\n",
       "      <td>25771.000000</td>\n",
       "      <td>25771.000000</td>\n",
       "      <td>25771.000000</td>\n",
       "      <td>25771.000000</td>\n",
       "    </tr>\n",
       "    <tr>\n",
       "      <th>mean</th>\n",
       "      <td>471913.795274</td>\n",
       "      <td>48.903370</td>\n",
       "      <td>-100.332196</td>\n",
       "      <td>2151.624142</td>\n",
       "    </tr>\n",
       "    <tr>\n",
       "      <th>std</th>\n",
       "      <td>120330.335865</td>\n",
       "      <td>3.603257</td>\n",
       "      <td>17.917001</td>\n",
       "      <td>972.820941</td>\n",
       "    </tr>\n",
       "    <tr>\n",
       "      <th>min</th>\n",
       "      <td>820.000000</td>\n",
       "      <td>40.741802</td>\n",
       "      <td>-128.661880</td>\n",
       "      <td>0.000000</td>\n",
       "    </tr>\n",
       "    <tr>\n",
       "      <th>25%</th>\n",
       "      <td>415749.000000</td>\n",
       "      <td>45.418785</td>\n",
       "      <td>-114.074660</td>\n",
       "      <td>1600.000000</td>\n",
       "    </tr>\n",
       "    <tr>\n",
       "      <th>50%</th>\n",
       "      <td>522379.000000</td>\n",
       "      <td>50.913739</td>\n",
       "      <td>-113.513905</td>\n",
       "      <td>2045.000000</td>\n",
       "    </tr>\n",
       "    <tr>\n",
       "      <th>75%</th>\n",
       "      <td>563397.500000</td>\n",
       "      <td>51.093585</td>\n",
       "      <td>-79.401311</td>\n",
       "      <td>2550.000000</td>\n",
       "    </tr>\n",
       "    <tr>\n",
       "      <th>max</th>\n",
       "      <td>572635.000000</td>\n",
       "      <td>62.459246</td>\n",
       "      <td>-52.695472</td>\n",
       "      <td>29990.000000</td>\n",
       "    </tr>\n",
       "  </tbody>\n",
       "</table>\n",
       "</div>"
      ],
      "text/plain": [
       "       rentfaster_id      latitude     longitude         price\n",
       "count   25771.000000  25771.000000  25771.000000  25771.000000\n",
       "mean   471913.795274     48.903370   -100.332196   2151.624142\n",
       "std    120330.335865      3.603257     17.917001    972.820941\n",
       "min       820.000000     40.741802   -128.661880      0.000000\n",
       "25%    415749.000000     45.418785   -114.074660   1600.000000\n",
       "50%    522379.000000     50.913739   -113.513905   2045.000000\n",
       "75%    563397.500000     51.093585    -79.401311   2550.000000\n",
       "max    572635.000000     62.459246    -52.695472  29990.000000"
      ]
     },
     "execution_count": 3,
     "metadata": {},
     "output_type": "execute_result"
    }
   ],
   "source": [
    "df.info()\n",
    "df.describe()"
   ]
  },
  {
   "cell_type": "code",
   "execution_count": 4,
   "id": "70a3cebe-864a-469e-84da-c3747d2d328f",
   "metadata": {},
   "outputs": [
    {
     "name": "stderr",
     "output_type": "stream",
     "text": [
      "C:\\Users\\Alda\\anaconda3\\Anaconda_new\\Lib\\site-packages\\seaborn\\_oldcore.py:1119: FutureWarning: use_inf_as_na option is deprecated and will be removed in a future version. Convert inf values to NaN before operating instead.\n",
      "  with pd.option_context('mode.use_inf_as_na', True):\n"
     ]
    },
    {
     "data": {
      "image/png": "[encoded data removed]",
      "text/plain": [
       "<Figure size 640x480 with 1 Axes>"
      ]
     },
     "metadata": {},
     "output_type": "display_data"
    }
   ],
   "source": [
    "sns.histplot(df['price'], bins=25, kde=True)\n",
    "plt.title('Distribution of Rental Prices')\n",
    "plt.show()"
   ]
  },
  {
   "cell_type": "markdown",
   "id": "be2b0e51-745f-4f2e-8fb9-81396a747a51",
   "metadata": {},
   "source": [
    "We can see that we have a lot of categorical columns and just few numerical ones. We'll transform necessary categorical columns into numerical format. Let's clean and prepare our data."
   ]
  },
  {
   "cell_type": "markdown",
   "id": "0fcb2fdf-cfe3-4708-9562-74692949eed5",
   "metadata": {},
   "source": [
    "## 2. Clean and prepare data"
   ]
  },
  {
   "cell_type": "code",
   "execution_count": 5,
   "id": "141d5046-aad7-4068-956c-675c5fc48352",
   "metadata": {},
   "outputs": [],
   "source": [
    "# We remove all missing values\n",
    "df=df.dropna()\n",
    "\n",
    "# We remove the link column cause it is not revelant for our analysis\n",
    "df= df.drop('link',axis=1)\n",
    "\n",
    "# We convert sq_feet column from object to float\n",
    "df['sq_feet'] = pd.to_numeric(df['sq_feet'], errors='coerce')\n",
    "df['sq_feet']=df['sq_feet'].fillna(0)\n",
    "\n",
    "# We convert beds and baths into float in order to have only numbers, without strings\n",
    "df['beds'] = df['beds'].str.extract('(\\d+)').astype(float) # Studio will be NaN\n",
    "df.loc[df['beds'].isna(), 'beds'] = 0  # Assign 0 to 'Studio' (NaN values)\n",
    "\n",
    "df['baths'] = df['baths'].replace('none', '0').astype(float)"
   ]
  },
  {
   "cell_type": "code",
   "execution_count": 6,
   "id": "41533d91-0c50-4a7d-a1ff-801c27111a77",
   "metadata": {},
   "outputs": [
    {
     "name": "stdout",
     "output_type": "stream",
     "text": [
      "<class 'pandas.core.frame.DataFrame'>\n",
      "Index: 19337 entries, 0 to 25770\n",
      "Data columns (total 17 columns):\n",
      " #   Column             Non-Null Count  Dtype  \n",
      "---  ------             --------------  -----  \n",
      " 0   rentfaster_id      19337 non-null  int64  \n",
      " 1   city               19337 non-null  object \n",
      " 2   province           19337 non-null  object \n",
      " 3   address            19337 non-null  object \n",
      " 4   latitude           19337 non-null  float64\n",
      " 5   longitude          19337 non-null  float64\n",
      " 6   lease_term         19337 non-null  object \n",
      " 7   type               19337 non-null  object \n",
      " 8   price              19337 non-null  float64\n",
      " 9   beds               19337 non-null  float64\n",
      " 10  baths              19337 non-null  float64\n",
      " 11  sq_feet            19337 non-null  float64\n",
      " 12  furnishing         19337 non-null  object \n",
      " 13  availability_date  19337 non-null  object \n",
      " 14  smoking            19337 non-null  object \n",
      " 15  cats               19337 non-null  object \n",
      " 16  dogs               19337 non-null  object \n",
      "dtypes: float64(6), int64(1), object(10)\n",
      "memory usage: 2.7+ MB\n"
     ]
    },
    {
     "data": {
      "text/html": [
       "<div>\n",
       "<style scoped>\n",
       "    .dataframe tbody tr th:only-of-type {\n",
       "        vertical-align: middle;\n",
       "    }\n",
       "\n",
       "    .dataframe tbody tr th {\n",
       "        vertical-align: top;\n",
       "    }\n",
       "\n",
       "    .dataframe thead th {\n",
       "        text-align: right;\n",
       "    }\n",
       "</style>\n",
       "<table border=\"1\" class=\"dataframe\">\n",
       "  <thead>\n",
       "    <tr style=\"text-align: right;\">\n",
       "      <th></th>\n",
       "      <th>rentfaster_id</th>\n",
       "      <th>latitude</th>\n",
       "      <th>longitude</th>\n",
       "      <th>price</th>\n",
       "      <th>beds</th>\n",
       "      <th>baths</th>\n",
       "      <th>sq_feet</th>\n",
       "    </tr>\n",
       "  </thead>\n",
       "  <tbody>\n",
       "    <tr>\n",
       "      <th>count</th>\n",
       "      <td>19337.000000</td>\n",
       "      <td>19337.000000</td>\n",
       "      <td>19337.000000</td>\n",
       "      <td>19337.000000</td>\n",
       "      <td>19337.000000</td>\n",
       "      <td>19337.000000</td>\n",
       "      <td>19337.000000</td>\n",
       "    </tr>\n",
       "    <tr>\n",
       "      <th>mean</th>\n",
       "      <td>460840.405492</td>\n",
       "      <td>49.161789</td>\n",
       "      <td>-101.672469</td>\n",
       "      <td>2166.144573</td>\n",
       "      <td>1.768992</td>\n",
       "      <td>1.435202</td>\n",
       "      <td>872.113147</td>\n",
       "    </tr>\n",
       "    <tr>\n",
       "      <th>std</th>\n",
       "      <td>125130.935253</td>\n",
       "      <td>3.531318</td>\n",
       "      <td>17.473785</td>\n",
       "      <td>893.703637</td>\n",
       "      <td>0.971488</td>\n",
       "      <td>0.666610</td>\n",
       "      <td>506.605291</td>\n",
       "    </tr>\n",
       "    <tr>\n",
       "      <th>min</th>\n",
       "      <td>820.000000</td>\n",
       "      <td>42.040814</td>\n",
       "      <td>-128.661880</td>\n",
       "      <td>0.000000</td>\n",
       "      <td>0.000000</td>\n",
       "      <td>0.000000</td>\n",
       "      <td>0.000000</td>\n",
       "    </tr>\n",
       "    <tr>\n",
       "      <th>25%</th>\n",
       "      <td>394521.000000</td>\n",
       "      <td>45.468491</td>\n",
       "      <td>-114.078523</td>\n",
       "      <td>1650.000000</td>\n",
       "      <td>1.000000</td>\n",
       "      <td>1.000000</td>\n",
       "      <td>600.000000</td>\n",
       "    </tr>\n",
       "    <tr>\n",
       "      <th>50%</th>\n",
       "      <td>508373.000000</td>\n",
       "      <td>50.972034</td>\n",
       "      <td>-113.532879</td>\n",
       "      <td>2067.860000</td>\n",
       "      <td>2.000000</td>\n",
       "      <td>1.000000</td>\n",
       "      <td>800.000000</td>\n",
       "    </tr>\n",
       "    <tr>\n",
       "      <th>75%</th>\n",
       "      <td>559539.000000</td>\n",
       "      <td>51.105808</td>\n",
       "      <td>-79.577513</td>\n",
       "      <td>2550.000000</td>\n",
       "      <td>2.000000</td>\n",
       "      <td>2.000000</td>\n",
       "      <td>1031.000000</td>\n",
       "    </tr>\n",
       "    <tr>\n",
       "      <th>max</th>\n",
       "      <td>572635.000000</td>\n",
       "      <td>62.459246</td>\n",
       "      <td>-52.695472</td>\n",
       "      <td>26500.000000</td>\n",
       "      <td>9.000000</td>\n",
       "      <td>7.500000</td>\n",
       "      <td>11700.000000</td>\n",
       "    </tr>\n",
       "  </tbody>\n",
       "</table>\n",
       "</div>"
      ],
      "text/plain": [
       "       rentfaster_id      latitude     longitude         price          beds  \\\n",
       "count   19337.000000  19337.000000  19337.000000  19337.000000  19337.000000   \n",
       "mean   460840.405492     49.161789   -101.672469   2166.144573      1.768992   \n",
       "std    125130.935253      3.531318     17.473785    893.703637      0.971488   \n",
       "min       820.000000     42.040814   -128.661880      0.000000      0.000000   \n",
       "25%    394521.000000     45.468491   -114.078523   1650.000000      1.000000   \n",
       "50%    508373.000000     50.972034   -113.532879   2067.860000      2.000000   \n",
       "75%    559539.000000     51.105808    -79.577513   2550.000000      2.000000   \n",
       "max    572635.000000     62.459246    -52.695472  26500.000000      9.000000   \n",
       "\n",
       "              baths       sq_feet  \n",
       "count  19337.000000  19337.000000  \n",
       "mean       1.435202    872.113147  \n",
       "std        0.666610    506.605291  \n",
       "min        0.000000      0.000000  \n",
       "25%        1.000000    600.000000  \n",
       "50%        1.000000    800.000000  \n",
       "75%        2.000000   1031.000000  \n",
       "max        7.500000  11700.000000  "
      ]
     },
     "execution_count": 6,
     "metadata": {},
     "output_type": "execute_result"
    }
   ],
   "source": [
    "df.info()\n",
    "df.describe()"
   ]
  },
  {
   "cell_type": "code",
   "execution_count": 8,
   "id": "158895cd-5527-444e-bc2b-f4718ddbcbae",
   "metadata": {},
   "outputs": [
    {
     "name": "stderr",
     "output_type": "stream",
     "text": [
      "C:\\Users\\Alda\\AppData\\Local\\Temp\\ipykernel_31028\\4009756124.py:10: SettingWithCopyWarning: \n",
      "A value is trying to be set on a copy of a slice from a DataFrame.\n",
      "Try using .loc[row_indexer,col_indexer] = value instead\n",
      "\n",
      "See the caveats in the documentation: https://pandas.pydata.org/pandas-docs/stable/user_guide/indexing.html#returning-a-view-versus-a-copy\n",
      "  df2[col] = df2[col].astype(int)\n",
      "C:\\Users\\Alda\\AppData\\Local\\Temp\\ipykernel_31028\\4009756124.py:10: SettingWithCopyWarning: \n",
      "A value is trying to be set on a copy of a slice from a DataFrame.\n",
      "Try using .loc[row_indexer,col_indexer] = value instead\n",
      "\n",
      "See the caveats in the documentation: https://pandas.pydata.org/pandas-docs/stable/user_guide/indexing.html#returning-a-view-versus-a-copy\n",
      "  df2[col] = df2[col].astype(int)\n",
      "C:\\Users\\Alda\\AppData\\Local\\Temp\\ipykernel_31028\\4009756124.py:10: SettingWithCopyWarning: \n",
      "A value is trying to be set on a copy of a slice from a DataFrame.\n",
      "Try using .loc[row_indexer,col_indexer] = value instead\n",
      "\n",
      "See the caveats in the documentation: https://pandas.pydata.org/pandas-docs/stable/user_guide/indexing.html#returning-a-view-versus-a-copy\n",
      "  df2[col] = df2[col].astype(int)\n",
      "C:\\Users\\Alda\\AppData\\Local\\Temp\\ipykernel_31028\\4009756124.py:10: SettingWithCopyWarning: \n",
      "A value is trying to be set on a copy of a slice from a DataFrame.\n",
      "Try using .loc[row_indexer,col_indexer] = value instead\n",
      "\n",
      "See the caveats in the documentation: https://pandas.pydata.org/pandas-docs/stable/user_guide/indexing.html#returning-a-view-versus-a-copy\n",
      "  df2[col] = df2[col].astype(int)\n"
     ]
    },
    {
     "data": {
      "text/html": [
       "<div>\n",
       "<style scoped>\n",
       "    .dataframe tbody tr th:only-of-type {\n",
       "        vertical-align: middle;\n",
       "    }\n",
       "\n",
       "    .dataframe tbody tr th {\n",
       "        vertical-align: top;\n",
       "    }\n",
       "\n",
       "    .dataframe thead th {\n",
       "        text-align: right;\n",
       "    }\n",
       "</style>\n",
       "<table border=\"1\" class=\"dataframe\">\n",
       "  <thead>\n",
       "    <tr style=\"text-align: right;\">\n",
       "      <th></th>\n",
       "      <th>beds</th>\n",
       "      <th>baths</th>\n",
       "      <th>sq_feet</th>\n",
       "      <th>price</th>\n",
       "      <th>cats</th>\n",
       "      <th>dogs</th>\n",
       "      <th>Non-Smoking</th>\n",
       "      <th>Furnished</th>\n",
       "    </tr>\n",
       "  </thead>\n",
       "  <tbody>\n",
       "    <tr>\n",
       "      <th>0</th>\n",
       "      <td>2.0</td>\n",
       "      <td>2.5</td>\n",
       "      <td>1403.0</td>\n",
       "      <td>2495.0</td>\n",
       "      <td>1</td>\n",
       "      <td>1</td>\n",
       "      <td>1</td>\n",
       "      <td>0</td>\n",
       "    </tr>\n",
       "    <tr>\n",
       "      <th>1</th>\n",
       "      <td>3.0</td>\n",
       "      <td>2.5</td>\n",
       "      <td>1496.0</td>\n",
       "      <td>2695.0</td>\n",
       "      <td>1</td>\n",
       "      <td>1</td>\n",
       "      <td>1</td>\n",
       "      <td>0</td>\n",
       "    </tr>\n",
       "    <tr>\n",
       "      <th>2</th>\n",
       "      <td>2.0</td>\n",
       "      <td>2.5</td>\n",
       "      <td>1180.0</td>\n",
       "      <td>2295.0</td>\n",
       "      <td>1</td>\n",
       "      <td>1</td>\n",
       "      <td>1</td>\n",
       "      <td>0</td>\n",
       "    </tr>\n",
       "    <tr>\n",
       "      <th>3</th>\n",
       "      <td>2.0</td>\n",
       "      <td>2.5</td>\n",
       "      <td>1403.0</td>\n",
       "      <td>2095.0</td>\n",
       "      <td>1</td>\n",
       "      <td>1</td>\n",
       "      <td>1</td>\n",
       "      <td>0</td>\n",
       "    </tr>\n",
       "    <tr>\n",
       "      <th>4</th>\n",
       "      <td>2.0</td>\n",
       "      <td>2.5</td>\n",
       "      <td>1403.0</td>\n",
       "      <td>2495.0</td>\n",
       "      <td>1</td>\n",
       "      <td>1</td>\n",
       "      <td>1</td>\n",
       "      <td>0</td>\n",
       "    </tr>\n",
       "    <tr>\n",
       "      <th>...</th>\n",
       "      <td>...</td>\n",
       "      <td>...</td>\n",
       "      <td>...</td>\n",
       "      <td>...</td>\n",
       "      <td>...</td>\n",
       "      <td>...</td>\n",
       "      <td>...</td>\n",
       "      <td>...</td>\n",
       "    </tr>\n",
       "    <tr>\n",
       "      <th>25766</th>\n",
       "      <td>0.0</td>\n",
       "      <td>1.0</td>\n",
       "      <td>400.0</td>\n",
       "      <td>920.0</td>\n",
       "      <td>1</td>\n",
       "      <td>1</td>\n",
       "      <td>1</td>\n",
       "      <td>0</td>\n",
       "    </tr>\n",
       "    <tr>\n",
       "      <th>25767</th>\n",
       "      <td>3.0</td>\n",
       "      <td>1.0</td>\n",
       "      <td>810.0</td>\n",
       "      <td>1450.0</td>\n",
       "      <td>1</td>\n",
       "      <td>1</td>\n",
       "      <td>1</td>\n",
       "      <td>0</td>\n",
       "    </tr>\n",
       "    <tr>\n",
       "      <th>25768</th>\n",
       "      <td>1.0</td>\n",
       "      <td>1.0</td>\n",
       "      <td>520.0</td>\n",
       "      <td>1125.0</td>\n",
       "      <td>1</td>\n",
       "      <td>1</td>\n",
       "      <td>1</td>\n",
       "      <td>0</td>\n",
       "    </tr>\n",
       "    <tr>\n",
       "      <th>25769</th>\n",
       "      <td>0.0</td>\n",
       "      <td>1.0</td>\n",
       "      <td>400.0</td>\n",
       "      <td>920.0</td>\n",
       "      <td>1</td>\n",
       "      <td>1</td>\n",
       "      <td>1</td>\n",
       "      <td>0</td>\n",
       "    </tr>\n",
       "    <tr>\n",
       "      <th>25770</th>\n",
       "      <td>2.0</td>\n",
       "      <td>1.0</td>\n",
       "      <td>700.0</td>\n",
       "      <td>1285.0</td>\n",
       "      <td>1</td>\n",
       "      <td>1</td>\n",
       "      <td>1</td>\n",
       "      <td>0</td>\n",
       "    </tr>\n",
       "  </tbody>\n",
       "</table>\n",
       "<p>19337 rows × 8 columns</p>\n",
       "</div>"
      ],
      "text/plain": [
       "       beds  baths  sq_feet   price  cats  dogs  Non-Smoking  Furnished\n",
       "0       2.0    2.5   1403.0  2495.0     1     1            1          0\n",
       "1       3.0    2.5   1496.0  2695.0     1     1            1          0\n",
       "2       2.0    2.5   1180.0  2295.0     1     1            1          0\n",
       "3       2.0    2.5   1403.0  2095.0     1     1            1          0\n",
       "4       2.0    2.5   1403.0  2495.0     1     1            1          0\n",
       "...     ...    ...      ...     ...   ...   ...          ...        ...\n",
       "25766   0.0    1.0    400.0   920.0     1     1            1          0\n",
       "25767   3.0    1.0    810.0  1450.0     1     1            1          0\n",
       "25768   1.0    1.0    520.0  1125.0     1     1            1          0\n",
       "25769   0.0    1.0    400.0   920.0     1     1            1          0\n",
       "25770   2.0    1.0    700.0  1285.0     1     1            1          0\n",
       "\n",
       "[19337 rows x 8 columns]"
      ]
     },
     "execution_count": 8,
     "metadata": {},
     "output_type": "execute_result"
    }
   ],
   "source": [
    "# We transform unique element in smoking and furnishing into columns in order to use them later\n",
    "new_df=pd.get_dummies(df, columns=['smoking','furnishing'], prefix='',prefix_sep='')\n",
    "\n",
    "# We select only columns we will use for our regression\n",
    "df2=new_df[['beds','baths','sq_feet','price','cats','dogs','Non-Smoking','Furnished']]\n",
    "\n",
    "# In order to have only numerical columns, we convert all categorical columns in our df\n",
    "bool_columns = ['cats', 'dogs','Non-Smoking','Furnished']\n",
    "for col in bool_columns:\n",
    "    df2[col] = df2[col].astype(int)\n",
    "\n",
    "df2"
   ]
  },
  {
   "cell_type": "markdown",
   "id": "9020333f-5ef4-4a15-be65-3d0f3c3a5e84",
   "metadata": {},
   "source": [
    "We can create a scatterplot of some feature X against the target variable y (price) to look for linearity."
   ]
  },
  {
   "cell_type": "code",
   "execution_count": 9,
   "id": "bbeb6101-c04b-4e7d-8c9b-d2ed0aff9962",
   "metadata": {},
   "outputs": [
    {
     "data": {
      "image/png": "[encoded data removed]",
      "text/plain": [
       "<Figure size 640x480 with 1 Axes>"
      ]
     },
     "metadata": {},
     "output_type": "display_data"
    },
    {
     "data": {
      "image/png": "[encoded data removed]",
      "text/plain": [
       "<Figure size 640x480 with 1 Axes>"
      ]
     },
     "metadata": {},
     "output_type": "display_data"
    },
    {
     "data": {
      "image/png": "[encoded data removed]",
      "text/plain": [
       "<Figure size 640x480 with 1 Axes>"
      ]
     },
     "metadata": {},
     "output_type": "display_data"
    }
   ],
   "source": [
    "plt.scatter(df['beds'], df['price'], color='red')\n",
    "plt.xlabel(\"beds\")\n",
    "plt.ylabel(\"price\")\n",
    "plt.show()\n",
    "\n",
    "plt.scatter(df['baths'], df['price'], color='blue')\n",
    "plt.xlabel(\"baths\")\n",
    "plt.ylabel(\"price\")\n",
    "plt.show()\n",
    "\n",
    "plt.scatter(df['sq_feet'], df['price'], color='black')\n",
    "plt.xlabel(\"sq_feet\")\n",
    "plt.ylabel(\"price\")\n",
    "plt.show()"
   ]
  },
  {
   "cell_type": "markdown",
   "id": "5e4bdf61-5808-4e60-bdc0-b1675a804b42",
   "metadata": {},
   "source": [
    "The above scatterplots demonstrate some linear relationship betwen the independent variables X and the target variable y."
   ]
  },
  {
   "cell_type": "code",
   "execution_count": 10,
   "id": "4cf2d2d1-a76c-40d1-99c8-62a2f1acb29c",
   "metadata": {},
   "outputs": [
    {
     "name": "stdout",
     "output_type": "stream",
     "text": [
      "<class 'pandas.core.frame.DataFrame'>\n",
      "Index: 19337 entries, 0 to 25770\n",
      "Data columns (total 8 columns):\n",
      " #   Column       Non-Null Count  Dtype  \n",
      "---  ------       --------------  -----  \n",
      " 0   beds         19337 non-null  float64\n",
      " 1   baths        19337 non-null  float64\n",
      " 2   sq_feet      19337 non-null  float64\n",
      " 3   price        19337 non-null  float64\n",
      " 4   cats         19337 non-null  int32  \n",
      " 5   dogs         19337 non-null  int32  \n",
      " 6   Non-Smoking  19337 non-null  int32  \n",
      " 7   Furnished    19337 non-null  int32  \n",
      "dtypes: float64(4), int32(4)\n",
      "memory usage: 1.0 MB\n"
     ]
    }
   ],
   "source": [
    "df2.info()"
   ]
  },
  {
   "cell_type": "markdown",
   "id": "f9478db2-a430-4f5a-88a2-d401806e4a75",
   "metadata": {},
   "source": [
    "As we can see, df2 has only numerical columns, which is good for our regression models. We selected only revelant columns for our analysis, such as 'price' column which will be our target variable, but also 'beds','baths', 'sq_feet', 'cats','dogs','Non-smoking' and 'Furnished'which have a big impact on the price and which will be our  independent features."
   ]
  },
  {
   "cell_type": "markdown",
   "id": "5479c486-1dd0-4ddb-99e7-6e994cbdc608",
   "metadata": {},
   "source": [
    "## 3. Regression models\n",
    "\n",
    "We will now compare 3 different regression models in order to see which one give better results. To do this, we'll compare Linear regression, ridgeCV and Lasso models."
   ]
  },
  {
   "cell_type": "markdown",
   "id": "332b4fd9-0bcf-453d-91e5-3c03f3da2846",
   "metadata": {},
   "source": [
    "### 3.1. Linear Regression\n",
    "\n",
    "Let's start with linear regression. We'll separate independant features X and target variable y, split data into train and test where we'll use 10% for testing and 90% for training. Then we'll create and train our first model."
   ]
  },
  {
   "cell_type": "code",
   "execution_count": 11,
   "id": "49bf739c-f740-4ecb-ae06-4c448f0b2c79",
   "metadata": {},
   "outputs": [
    {
     "data": {
      "text/html": [
       "<style>#sk-container-id-1 {color: black;background-color: white;}#sk-container-id-1 pre{padding: 0;}#sk-container-id-1 div.sk-toggleable {background-color: white;}#sk-container-id-1 label.sk-toggleable__label {cursor: pointer;display: block;width: 100%;margin-bottom: 0;padding: 0.3em;box-sizing: border-box;text-align: center;}#sk-container-id-1 label.sk-toggleable__label-arrow:before {content: \"▸\";float: left;margin-right: 0.25em;color: #696969;}#sk-container-id-1 label.sk-toggleable__label-arrow:hover:before {color: black;}#sk-container-id-1 div.sk-estimator:hover label.sk-toggleable__label-arrow:before {color: black;}#sk-container-id-1 div.sk-toggleable__content {max-height: 0;max-width: 0;overflow: hidden;text-align: left;background-color: #f0f8ff;}#sk-container-id-1 div.sk-toggleable__content pre {margin: 0.2em;color: black;border-radius: 0.25em;background-color: #f0f8ff;}#sk-container-id-1 input.sk-toggleable__control:checked~div.sk-toggleable__content {max-height: 200px;max-width: 100%;overflow: auto;}#sk-container-id-1 input.sk-toggleable__control:checked~label.sk-toggleable__label-arrow:before {content: \"▾\";}#sk-container-id-1 div.sk-estimator input.sk-toggleable__control:checked~label.sk-toggleable__label {background-color: #d4ebff;}#sk-container-id-1 div.sk-label input.sk-toggleable__control:checked~label.sk-toggleable__label {background-color: #d4ebff;}#sk-container-id-1 input.sk-hidden--visually {border: 0;clip: rect(1px 1px 1px 1px);clip: rect(1px, 1px, 1px, 1px);height: 1px;margin: -1px;overflow: hidden;padding: 0;position: absolute;width: 1px;}#sk-container-id-1 div.sk-estimator {font-family: monospace;background-color: #f0f8ff;border: 1px dotted black;border-radius: 0.25em;box-sizing: border-box;margin-bottom: 0.5em;}#sk-container-id-1 div.sk-estimator:hover {background-color: #d4ebff;}#sk-container-id-1 div.sk-parallel-item::after {content: \"\";width: 100%;border-bottom: 1px solid gray;flex-grow: 1;}#sk-container-id-1 div.sk-label:hover label.sk-toggleable__label {background-color: #d4ebff;}#sk-container-id-1 div.sk-serial::before {content: \"\";position: absolute;border-left: 1px solid gray;box-sizing: border-box;top: 0;bottom: 0;left: 50%;z-index: 0;}#sk-container-id-1 div.sk-serial {display: flex;flex-direction: column;align-items: center;background-color: white;padding-right: 0.2em;padding-left: 0.2em;position: relative;}#sk-container-id-1 div.sk-item {position: relative;z-index: 1;}#sk-container-id-1 div.sk-parallel {display: flex;align-items: stretch;justify-content: center;background-color: white;position: relative;}#sk-container-id-1 div.sk-item::before, #sk-container-id-1 div.sk-parallel-item::before {content: \"\";position: absolute;border-left: 1px solid gray;box-sizing: border-box;top: 0;bottom: 0;left: 50%;z-index: -1;}#sk-container-id-1 div.sk-parallel-item {display: flex;flex-direction: column;z-index: 1;position: relative;background-color: white;}#sk-container-id-1 div.sk-parallel-item:first-child::after {align-self: flex-end;width: 50%;}#sk-container-id-1 div.sk-parallel-item:last-child::after {align-self: flex-start;width: 50%;}#sk-container-id-1 div.sk-parallel-item:only-child::after {width: 0;}#sk-container-id-1 div.sk-dashed-wrapped {border: 1px dashed gray;margin: 0 0.4em 0.5em 0.4em;box-sizing: border-box;padding-bottom: 0.4em;background-color: white;}#sk-container-id-1 div.sk-label label {font-family: monospace;font-weight: bold;display: inline-block;line-height: 1.2em;}#sk-container-id-1 div.sk-label-container {text-align: center;}#sk-container-id-1 div.sk-container {/* jupyter's `normalize.less` sets `[hidden] { display: none; }` but bootstrap.min.css set `[hidden] { display: none !important; }` so we also need the `!important` here to be able to override the default hidden behavior on the sphinx rendered scikit-learn.org. See: https://github.com/scikit-learn/scikit-learn/issues/21755 */display: inline-block !important;position: relative;}#sk-container-id-1 div.sk-text-repr-fallback {display: none;}</style><div id=\"sk-container-id-1\" class=\"sk-top-container\"><div class=\"sk-text-repr-fallback\"><pre>LinearRegression()</pre><b>In a Jupyter environment, please rerun this cell to show the HTML representation or trust the notebook. <br />On GitHub, the HTML representation is unable to render, please try loading this page with nbviewer.org.</b></div><div class=\"sk-container\" hidden><div class=\"sk-item\"><div class=\"sk-estimator sk-toggleable\"><input class=\"sk-toggleable__control sk-hidden--visually\" id=\"sk-estimator-id-1\" type=\"checkbox\" checked><label for=\"sk-estimator-id-1\" class=\"sk-toggleable__label sk-toggleable__label-arrow\">LinearRegression</label><div class=\"sk-toggleable__content\"><pre>LinearRegression()</pre></div></div></div></div></div>"
      ],
      "text/plain": [
       "LinearRegression()"
      ]
     },
     "execution_count": 11,
     "metadata": {},
     "output_type": "execute_result"
    }
   ],
   "source": [
    "# Separate features and target variable\n",
    "X = df2.drop('price', axis=1)\n",
    "y = df2['price']\n",
    "\n",
    "# Train-test split\n",
    "X_train, X_test, y_train, y_test = train_test_split(X, y, test_size = 0.1, random_state = 1)\n",
    "\n",
    "# Use StandardScaler to scale independent variables\n",
    "scaler = StandardScaler()\n",
    "X_train_scaled = scaler.fit_transform(X_train)\n",
    "X_test_scaled = scaler.transform(X_test)\n",
    "\n",
    "# we create instance of model\n",
    "slr_model = LinearRegression()\n",
    "slr_model.fit(X_train, y_train)"
   ]
  },
  {
   "cell_type": "markdown",
   "id": "15e6c841-6c65-4a15-bc84-4ffbca80e71b",
   "metadata": {},
   "source": [
    "Now, we can test our model by obtaining metrics MAE, MSE, RMSE and R2 scores."
   ]
  },
  {
   "cell_type": "code",
   "execution_count": 12,
   "id": "987e9935-ab32-4851-b15b-19fd89103b2c",
   "metadata": {},
   "outputs": [
    {
     "data": {
      "text/plain": [
       "(486.56280971221935, 785420.161837493, 886.2393366565789, 0.4255813164973108)"
      ]
     },
     "execution_count": 12,
     "metadata": {},
     "output_type": "execute_result"
    }
   ],
   "source": [
    "#Obtain y hat (y_pred) values\n",
    "y_pred = slr_model.predict(X_test)\n",
    "\n",
    "#Now we can obtain the MAE, MSE, RMSE and R2 scores\n",
    "MAE = mean_absolute_error(y_test, y_pred)\n",
    "MSE = mean_squared_error(y_test, y_pred)\n",
    "RMSE = np.sqrt(MSE)\n",
    "R2 = r2_score(y_test, y_pred)\n",
    "\n",
    "MAE, MSE, RMSE, R2"
   ]
  },
  {
   "cell_type": "markdown",
   "id": "95898542-86ad-47e0-a504-450e44183fa1",
   "metadata": {},
   "source": [
    "We can also interpret coefficients"
   ]
  },
  {
   "cell_type": "code",
   "execution_count": 13,
   "id": "556b1fc5-9ddb-48a5-8f77-30de9e2e418c",
   "metadata": {},
   "outputs": [
    {
     "data": {
      "text/html": [
       "<div>\n",
       "<style scoped>\n",
       "    .dataframe tbody tr th:only-of-type {\n",
       "        vertical-align: middle;\n",
       "    }\n",
       "\n",
       "    .dataframe tbody tr th {\n",
       "        vertical-align: top;\n",
       "    }\n",
       "\n",
       "    .dataframe thead th {\n",
       "        text-align: right;\n",
       "    }\n",
       "</style>\n",
       "<table border=\"1\" class=\"dataframe\">\n",
       "  <thead>\n",
       "    <tr style=\"text-align: right;\">\n",
       "      <th></th>\n",
       "      <th>Coefficient</th>\n",
       "    </tr>\n",
       "  </thead>\n",
       "  <tbody>\n",
       "    <tr>\n",
       "      <th>beds</th>\n",
       "      <td>103.333509</td>\n",
       "    </tr>\n",
       "    <tr>\n",
       "      <th>baths</th>\n",
       "      <td>416.301111</td>\n",
       "    </tr>\n",
       "    <tr>\n",
       "      <th>sq_feet</th>\n",
       "      <td>0.387466</td>\n",
       "    </tr>\n",
       "    <tr>\n",
       "      <th>cats</th>\n",
       "      <td>-16.068717</td>\n",
       "    </tr>\n",
       "    <tr>\n",
       "      <th>dogs</th>\n",
       "      <td>262.213092</td>\n",
       "    </tr>\n",
       "    <tr>\n",
       "      <th>Non-Smoking</th>\n",
       "      <td>-46.368094</td>\n",
       "    </tr>\n",
       "    <tr>\n",
       "      <th>Furnished</th>\n",
       "      <td>247.127553</td>\n",
       "    </tr>\n",
       "  </tbody>\n",
       "</table>\n",
       "</div>"
      ],
      "text/plain": [
       "             Coefficient\n",
       "beds          103.333509\n",
       "baths         416.301111\n",
       "sq_feet         0.387466\n",
       "cats          -16.068717\n",
       "dogs          262.213092\n",
       "Non-Smoking   -46.368094\n",
       "Furnished     247.127553"
      ]
     },
     "execution_count": 13,
     "metadata": {},
     "output_type": "execute_result"
    }
   ],
   "source": [
    "coeff_df = pd.DataFrame(slr_model.coef_,X.columns,columns=['Coefficient'])\n",
    "coeff_df"
   ]
  },
  {
   "cell_type": "markdown",
   "id": "a3dd2d93-b378-4dd0-a7fb-6cd6ced94375",
   "metadata": {},
   "source": [
    "We can see that adding one bedroom is associated with an increase of 103.33 in price, assuming all other independant features remain constant.\n",
    "Likewise, adding a bathroom increases the price by 416.30 assuming all other features remain constant. \n",
    "Allowing dogs is associated with an increase of $262.21 in price, assuming all other independant features remain constant. etc."
   ]
  },
  {
   "cell_type": "markdown",
   "id": "16060c2b-9b6a-41cb-b5d7-5b2f258cc971",
   "metadata": {},
   "source": [
    "### 3.2. Ridge Model\n",
    "\n",
    "We'll first apply polynomial features, and then we will explore how regularization can be used to simplify the resulting models. We'll still work with df2 where y is price and the other columns are X. We'll create PolynomialFeatures and fit_transform X features. And once again we'll train-test plit but this time we will use poly_feature (X_poly) instead of X."
   ]
  },
  {
   "cell_type": "code",
   "execution_count": 14,
   "id": "cca6e1ee-b936-4ffb-a11a-82a01b307fb4",
   "metadata": {},
   "outputs": [],
   "source": [
    "#Create polynomial features up to degree 2\n",
    "poly = PolynomialFeatures(degree=2, include_bias=False)\n",
    "X_poly = poly.fit_transform(X)\n",
    "\n",
    "#We use Random state to get train-test split\n",
    "X_train2, X_test2, y_train2, y_test2 = train_test_split(X_poly, y, test_size = 0.15, random_state = 1)\n",
    "\n",
    "#Use StandardScaler to scale independent variables\n",
    "scaler = StandardScaler()\n",
    "X_train_scaled2 = scaler.fit_transform(X_train2)\n",
    "X_test_scaled2 = scaler.transform(X_test2)"
   ]
  },
  {
   "cell_type": "markdown",
   "id": "a84fc6f9-b359-4bf7-9cf2-e2d9c0657d3f",
   "metadata": {},
   "source": [
    "Now we can apply and evaluate Ridge model"
   ]
  },
  {
   "cell_type": "code",
   "execution_count": 15,
   "id": "bf3c5edd-b156-4f77-81f6-f3a8c3022e4c",
   "metadata": {},
   "outputs": [
    {
     "data": {
      "text/html": [
       "<style>#sk-container-id-2 {color: black;background-color: white;}#sk-container-id-2 pre{padding: 0;}#sk-container-id-2 div.sk-toggleable {background-color: white;}#sk-container-id-2 label.sk-toggleable__label {cursor: pointer;display: block;width: 100%;margin-bottom: 0;padding: 0.3em;box-sizing: border-box;text-align: center;}#sk-container-id-2 label.sk-toggleable__label-arrow:before {content: \"▸\";float: left;margin-right: 0.25em;color: #696969;}#sk-container-id-2 label.sk-toggleable__label-arrow:hover:before {color: black;}#sk-container-id-2 div.sk-estimator:hover label.sk-toggleable__label-arrow:before {color: black;}#sk-container-id-2 div.sk-toggleable__content {max-height: 0;max-width: 0;overflow: hidden;text-align: left;background-color: #f0f8ff;}#sk-container-id-2 div.sk-toggleable__content pre {margin: 0.2em;color: black;border-radius: 0.25em;background-color: #f0f8ff;}#sk-container-id-2 input.sk-toggleable__control:checked~div.sk-toggleable__content {max-height: 200px;max-width: 100%;overflow: auto;}#sk-container-id-2 input.sk-toggleable__control:checked~label.sk-toggleable__label-arrow:before {content: \"▾\";}#sk-container-id-2 div.sk-estimator input.sk-toggleable__control:checked~label.sk-toggleable__label {background-color: #d4ebff;}#sk-container-id-2 div.sk-label input.sk-toggleable__control:checked~label.sk-toggleable__label {background-color: #d4ebff;}#sk-container-id-2 input.sk-hidden--visually {border: 0;clip: rect(1px 1px 1px 1px);clip: rect(1px, 1px, 1px, 1px);height: 1px;margin: -1px;overflow: hidden;padding: 0;position: absolute;width: 1px;}#sk-container-id-2 div.sk-estimator {font-family: monospace;background-color: #f0f8ff;border: 1px dotted black;border-radius: 0.25em;box-sizing: border-box;margin-bottom: 0.5em;}#sk-container-id-2 div.sk-estimator:hover {background-color: #d4ebff;}#sk-container-id-2 div.sk-parallel-item::after {content: \"\";width: 100%;border-bottom: 1px solid gray;flex-grow: 1;}#sk-container-id-2 div.sk-label:hover label.sk-toggleable__label {background-color: #d4ebff;}#sk-container-id-2 div.sk-serial::before {content: \"\";position: absolute;border-left: 1px solid gray;box-sizing: border-box;top: 0;bottom: 0;left: 50%;z-index: 0;}#sk-container-id-2 div.sk-serial {display: flex;flex-direction: column;align-items: center;background-color: white;padding-right: 0.2em;padding-left: 0.2em;position: relative;}#sk-container-id-2 div.sk-item {position: relative;z-index: 1;}#sk-container-id-2 div.sk-parallel {display: flex;align-items: stretch;justify-content: center;background-color: white;position: relative;}#sk-container-id-2 div.sk-item::before, #sk-container-id-2 div.sk-parallel-item::before {content: \"\";position: absolute;border-left: 1px solid gray;box-sizing: border-box;top: 0;bottom: 0;left: 50%;z-index: -1;}#sk-container-id-2 div.sk-parallel-item {display: flex;flex-direction: column;z-index: 1;position: relative;background-color: white;}#sk-container-id-2 div.sk-parallel-item:first-child::after {align-self: flex-end;width: 50%;}#sk-container-id-2 div.sk-parallel-item:last-child::after {align-self: flex-start;width: 50%;}#sk-container-id-2 div.sk-parallel-item:only-child::after {width: 0;}#sk-container-id-2 div.sk-dashed-wrapped {border: 1px dashed gray;margin: 0 0.4em 0.5em 0.4em;box-sizing: border-box;padding-bottom: 0.4em;background-color: white;}#sk-container-id-2 div.sk-label label {font-family: monospace;font-weight: bold;display: inline-block;line-height: 1.2em;}#sk-container-id-2 div.sk-label-container {text-align: center;}#sk-container-id-2 div.sk-container {/* jupyter's `normalize.less` sets `[hidden] { display: none; }` but bootstrap.min.css set `[hidden] { display: none !important; }` so we also need the `!important` here to be able to override the default hidden behavior on the sphinx rendered scikit-learn.org. See: https://github.com/scikit-learn/scikit-learn/issues/21755 */display: inline-block !important;position: relative;}#sk-container-id-2 div.sk-text-repr-fallback {display: none;}</style><div id=\"sk-container-id-2\" class=\"sk-top-container\"><div class=\"sk-text-repr-fallback\"><pre>Ridge(alpha=13)</pre><b>In a Jupyter environment, please rerun this cell to show the HTML representation or trust the notebook. <br />On GitHub, the HTML representation is unable to render, please try loading this page with nbviewer.org.</b></div><div class=\"sk-container\" hidden><div class=\"sk-item\"><div class=\"sk-estimator sk-toggleable\"><input class=\"sk-toggleable__control sk-hidden--visually\" id=\"sk-estimator-id-2\" type=\"checkbox\" checked><label for=\"sk-estimator-id-2\" class=\"sk-toggleable__label sk-toggleable__label-arrow\">Ridge</label><div class=\"sk-toggleable__content\"><pre>Ridge(alpha=13)</pre></div></div></div></div></div>"
      ],
      "text/plain": [
       "Ridge(alpha=13)"
      ]
     },
     "execution_count": 15,
     "metadata": {},
     "output_type": "execute_result"
    }
   ],
   "source": [
    "# Create instance of model\n",
    "ridge_model = Ridge(alpha=13)\n",
    "\n",
    "# Fit the model on scaled_X_train\n",
    "ridge_model.fit(X_train_scaled2, y_train2)"
   ]
  },
  {
   "cell_type": "code",
   "execution_count": 16,
   "id": "1a22860f-c0d9-42cf-872f-411cc1585553",
   "metadata": {},
   "outputs": [
    {
     "data": {
      "text/plain": [
       "(486.56280971221935, 785420.161837493, 886.2393366565789, 0.5883982518575712)"
      ]
     },
     "execution_count": 16,
     "metadata": {},
     "output_type": "execute_result"
    }
   ],
   "source": [
    "y_pred2 = ridge_model.predict(X_test_scaled2)\n",
    "\n",
    "MAE2 = mean_absolute_error(y_test2, y_pred2)\n",
    "MSE2 = mean_squared_error(y_test2, y_pred2)\n",
    "RMSE2 = np.sqrt(MSE2)\n",
    "R2 = r2_score(y_test2, y_pred2)\n",
    "MAE, MSE, RMSE, R2"
   ]
  },
  {
   "cell_type": "code",
   "execution_count": 17,
   "id": "7e85992d-95d4-40b7-9b14-8ce5721c3260",
   "metadata": {},
   "outputs": [
    {
     "data": {
      "text/plain": [
       "array([ 256.20311636,  -26.16842989,  333.25729189,  -78.8881852 ,\n",
       "         71.45448958,  -18.79247257,   -7.34559999, -150.92181456,\n",
       "        192.48618093, -400.12947807,  -99.22000321,   48.26974025,\n",
       "         70.13988759,  -32.97522472, -162.40489297,  125.49610516,\n",
       "         87.49189764,   -9.44449278,  264.65503919,  137.40218481,\n",
       "        218.88548445,   67.37997965,   41.70557004, -198.09823189,\n",
       "        -44.97927694,  -78.8881852 ,   94.98596893,   81.99489327,\n",
       "         13.00594745,   71.45448958, -185.18116193,   89.70116556,\n",
       "        -18.79247257,  -33.69373434,   -7.34559999])"
      ]
     },
     "execution_count": 17,
     "metadata": {},
     "output_type": "execute_result"
    }
   ],
   "source": [
    "# model coefficients\n",
    "ridge_model.coef_"
   ]
  },
  {
   "cell_type": "markdown",
   "id": "444eac4d-a63f-4469-a6c6-ecfb0764673a",
   "metadata": {},
   "source": [
    "### 3.3. LassoCv\n",
    "\n",
    "Now, we will create a lassoCv model and obtain error metrics in order to compare them with those obtained with the 2 previous models and see which one performs better."
   ]
  },
  {
   "cell_type": "code",
   "execution_count": 18,
   "id": "a41cb4cf-00df-4270-b3b6-62d9f1a07da2",
   "metadata": {},
   "outputs": [
    {
     "data": {
      "text/html": [
       "<style>#sk-container-id-3 {color: black;background-color: white;}#sk-container-id-3 pre{padding: 0;}#sk-container-id-3 div.sk-toggleable {background-color: white;}#sk-container-id-3 label.sk-toggleable__label {cursor: pointer;display: block;width: 100%;margin-bottom: 0;padding: 0.3em;box-sizing: border-box;text-align: center;}#sk-container-id-3 label.sk-toggleable__label-arrow:before {content: \"▸\";float: left;margin-right: 0.25em;color: #696969;}#sk-container-id-3 label.sk-toggleable__label-arrow:hover:before {color: black;}#sk-container-id-3 div.sk-estimator:hover label.sk-toggleable__label-arrow:before {color: black;}#sk-container-id-3 div.sk-toggleable__content {max-height: 0;max-width: 0;overflow: hidden;text-align: left;background-color: #f0f8ff;}#sk-container-id-3 div.sk-toggleable__content pre {margin: 0.2em;color: black;border-radius: 0.25em;background-color: #f0f8ff;}#sk-container-id-3 input.sk-toggleable__control:checked~div.sk-toggleable__content {max-height: 200px;max-width: 100%;overflow: auto;}#sk-container-id-3 input.sk-toggleable__control:checked~label.sk-toggleable__label-arrow:before {content: \"▾\";}#sk-container-id-3 div.sk-estimator input.sk-toggleable__control:checked~label.sk-toggleable__label {background-color: #d4ebff;}#sk-container-id-3 div.sk-label input.sk-toggleable__control:checked~label.sk-toggleable__label {background-color: #d4ebff;}#sk-container-id-3 input.sk-hidden--visually {border: 0;clip: rect(1px 1px 1px 1px);clip: rect(1px, 1px, 1px, 1px);height: 1px;margin: -1px;overflow: hidden;padding: 0;position: absolute;width: 1px;}#sk-container-id-3 div.sk-estimator {font-family: monospace;background-color: #f0f8ff;border: 1px dotted black;border-radius: 0.25em;box-sizing: border-box;margin-bottom: 0.5em;}#sk-container-id-3 div.sk-estimator:hover {background-color: #d4ebff;}#sk-container-id-3 div.sk-parallel-item::after {content: \"\";width: 100%;border-bottom: 1px solid gray;flex-grow: 1;}#sk-container-id-3 div.sk-label:hover label.sk-toggleable__label {background-color: #d4ebff;}#sk-container-id-3 div.sk-serial::before {content: \"\";position: absolute;border-left: 1px solid gray;box-sizing: border-box;top: 0;bottom: 0;left: 50%;z-index: 0;}#sk-container-id-3 div.sk-serial {display: flex;flex-direction: column;align-items: center;background-color: white;padding-right: 0.2em;padding-left: 0.2em;position: relative;}#sk-container-id-3 div.sk-item {position: relative;z-index: 1;}#sk-container-id-3 div.sk-parallel {display: flex;align-items: stretch;justify-content: center;background-color: white;position: relative;}#sk-container-id-3 div.sk-item::before, #sk-container-id-3 div.sk-parallel-item::before {content: \"\";position: absolute;border-left: 1px solid gray;box-sizing: border-box;top: 0;bottom: 0;left: 50%;z-index: -1;}#sk-container-id-3 div.sk-parallel-item {display: flex;flex-direction: column;z-index: 1;position: relative;background-color: white;}#sk-container-id-3 div.sk-parallel-item:first-child::after {align-self: flex-end;width: 50%;}#sk-container-id-3 div.sk-parallel-item:last-child::after {align-self: flex-start;width: 50%;}#sk-container-id-3 div.sk-parallel-item:only-child::after {width: 0;}#sk-container-id-3 div.sk-dashed-wrapped {border: 1px dashed gray;margin: 0 0.4em 0.5em 0.4em;box-sizing: border-box;padding-bottom: 0.4em;background-color: white;}#sk-container-id-3 div.sk-label label {font-family: monospace;font-weight: bold;display: inline-block;line-height: 1.2em;}#sk-container-id-3 div.sk-label-container {text-align: center;}#sk-container-id-3 div.sk-container {/* jupyter's `normalize.less` sets `[hidden] { display: none; }` but bootstrap.min.css set `[hidden] { display: none !important; }` so we also need the `!important` here to be able to override the default hidden behavior on the sphinx rendered scikit-learn.org. See: https://github.com/scikit-learn/scikit-learn/issues/21755 */display: inline-block !important;position: relative;}#sk-container-id-3 div.sk-text-repr-fallback {display: none;}</style><div id=\"sk-container-id-3\" class=\"sk-top-container\"><div class=\"sk-text-repr-fallback\"><pre>LassoCV(cv=10, eps=0.01, n_alphas=200)</pre><b>In a Jupyter environment, please rerun this cell to show the HTML representation or trust the notebook. <br />On GitHub, the HTML representation is unable to render, please try loading this page with nbviewer.org.</b></div><div class=\"sk-container\" hidden><div class=\"sk-item\"><div class=\"sk-estimator sk-toggleable\"><input class=\"sk-toggleable__control sk-hidden--visually\" id=\"sk-estimator-id-3\" type=\"checkbox\" checked><label for=\"sk-estimator-id-3\" class=\"sk-toggleable__label sk-toggleable__label-arrow\">LassoCV</label><div class=\"sk-toggleable__content\"><pre>LassoCV(cv=10, eps=0.01, n_alphas=200)</pre></div></div></div></div></div>"
      ],
      "text/plain": [
       "LassoCV(cv=10, eps=0.01, n_alphas=200)"
      ]
     },
     "execution_count": 18,
     "metadata": {},
     "output_type": "execute_result"
    }
   ],
   "source": [
    "# Create instance of model\n",
    "lassocv_model = LassoCV(eps=0.01,n_alphas=200,cv=10)\n",
    "\n",
    "# Fit the model on scaled_X_train\n",
    "lassocv_model.fit(X_train_scaled2, y_train2)"
   ]
  },
  {
   "cell_type": "code",
   "execution_count": 19,
   "id": "45134bec-fd7a-40d1-b589-96398376c36b",
   "metadata": {},
   "outputs": [
    {
     "data": {
      "text/plain": [
       "(467.81836179687923, 475707.6893391302, 689.7156583253204, 0.5591307974144628)"
      ]
     },
     "execution_count": 19,
     "metadata": {},
     "output_type": "execute_result"
    }
   ],
   "source": [
    "# lassocv metrics\n",
    "# Evaluate lassocv model\n",
    "\n",
    "y_pred_cv = lassocv_model.predict(X_test_scaled2)\n",
    "\n",
    "# Obtain metrics\n",
    "MAE_cv = mean_absolute_error(y_test2, y_pred2)\n",
    "MSE_cv = mean_squared_error(y_test2, y_pred2)\n",
    "RMSE_cv = np.sqrt(MSE_cv)\n",
    "R2_cv = r2_score(y_test2, y_pred_cv)\n",
    "\n",
    "MAE_cv, MSE_cv, RMSE_cv, R2_cv"
   ]
  },
  {
   "cell_type": "markdown",
   "id": "8b073a50-e84f-4a0a-8c2c-f39a1ed4ccd1",
   "metadata": {},
   "source": [
    "We can see that lassoCv model performs better according to the error metrics we obtained which are smaller than those of ridge model."
   ]
  },
  {
   "cell_type": "code",
   "execution_count": 20,
   "id": "eac58006-cb55-47ac-9c57-cb55ca3d7a85",
   "metadata": {},
   "outputs": [
    {
     "data": {
      "text/plain": [
       "array([ 222.32826886,  193.99168272,  123.05702356,   -0.        ,\n",
       "          0.        ,   -3.11799486,   -0.        ,  -71.14492617,\n",
       "          0.        , -189.04175192,    0.        ,    0.        ,\n",
       "          0.        ,   -0.        ,    0.        ,    0.        ,\n",
       "          0.        ,   16.94481758,   80.77286464,   29.25479496,\n",
       "        165.93959178,   26.38707991,   74.22325235,    0.        ,\n",
       "         -2.26762977,   -0.        ,   23.43674208,  -21.60933799,\n",
       "          5.68535146,    0.        ,   -0.        ,   85.41194866,\n",
       "        -14.34071038,   -3.25594088,   -0.        ])"
      ]
     },
     "execution_count": 20,
     "metadata": {},
     "output_type": "execute_result"
    }
   ],
   "source": [
    "lassocv_model.coef_"
   ]
  },
  {
   "cell_type": "markdown",
   "id": "03085966-054c-4e8e-b3a3-66e51d411e23",
   "metadata": {},
   "source": [
    "We can notice that several coefficients are zero. This means this model doesn't consider all features compared to Ridge which considered every single feature. With LassoCV the less important features are set to zero."
   ]
  },
  {
   "cell_type": "markdown",
   "id": "8a02c1ea-faf3-4caa-9d8b-ec1e11ccca92",
   "metadata": {},
   "source": [
    "## 4- Predictions\n",
    "\n",
    "Now that we compared different models and we saw that LassoCv performs better, we will use this model to make predictions on provided input."
   ]
  },
  {
   "cell_type": "code",
   "execution_count": 21,
   "id": "b4859cf8-5138-43f3-81cf-9074f8eefb7c",
   "metadata": {},
   "outputs": [
    {
     "name": "stdout",
     "output_type": "stream",
     "text": [
      "The predicted price according to your choice is: 2304.0834362578134\n"
     ]
    }
   ],
   "source": [
    "# We use LassoCv model to predict the above sales\n",
    "\n",
    "new_data = pd.DataFrame({'beds': [3], 'baths': [1.5], 'sq_feet': [1000], 'cats': [True],'dogs': [False],\n",
    "                          'Non-Smoking': [True],'Furnished': [True] })\n",
    "\n",
    "# Prepare new data for prediction\n",
    "new_data_poly = poly.transform(new_data)\n",
    "\n",
    "# Scale the new data using the same scaler used for training\n",
    "pred_data_scaled = scaler.transform(new_data_poly)\n",
    "\n",
    "# Predict sales units\n",
    "predicted_price = lassocv_model.predict(pred_data_scaled)\n",
    "\n",
    "print('The predicted price according to your choice is:', predicted_price[0])"
   ]
  },
  {
   "cell_type": "code",
   "execution_count": null,
   "id": "e86ca5a3-8279-4f4f-864e-6e90da1b642c",
   "metadata": {},
   "outputs": [],
   "source": []
  }
 ],
 "metadata": {
  "kernelspec": {
   "display_name": "Python 3 (ipykernel)",
   "language": "python",
   "name": "python3"
  },
  "language_info": {
   "codemirror_mode": {
    "name": "ipython",
    "version": 3
   },
   "file_extension": ".py",
   "mimetype": "text/x-python",
   "name": "python",
   "nbconvert_exporter": "python",
   "pygments_lexer": "ipython3",
   "version": "3.11.7"
  }
 },
 "nbformat": 4,
 "nbformat_minor": 5
}
